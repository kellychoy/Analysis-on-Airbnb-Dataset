{
 "cells": [
  {
   "cell_type": "markdown",
   "id": "59a707bf",
   "metadata": {},
   "source": [
    "# Profiling top-rated listings"
   ]
  },
  {
   "cell_type": "markdown",
   "id": "efa3a00e",
   "metadata": {},
   "source": [
    "## Libraries"
   ]
  },
  {
   "cell_type": "code",
   "execution_count": 32,
   "id": "f6a9ae43",
   "metadata": {},
   "outputs": [],
   "source": [
    "import pandas as pd\n",
    "from sklearn.model_selection import train_test_split\n",
    "import matplotlib.pyplot as plt\n",
    "from sklearn.metrics import accuracy_score, confusion_matrix\n",
    "from sklearn.model_selection import StratifiedKFold, cross_val_score\n",
    "from sklearn.preprocessing import StandardScaler, OneHotEncoder\n",
    "from sklearn.compose import ColumnTransformer\n",
    "from sklearn.cluster import KMeans\n",
    "from sklearn.preprocessing import LabelEncoder\n",
    "from sklearn.decomposition import PCA\n",
    "from sklearn.decomposition import TruncatedSVD\n",
    "from sklearn.metrics import silhouette_score\n",
    "from scipy.cluster.hierarchy import dendrogram, linkage, fcluster\n",
    "\n",
    "\n",
    "import numpy as np\n",
    "import os\n",
    "import sys"
   ]
  },
  {
   "cell_type": "markdown",
   "id": "7f6d89b6",
   "metadata": {},
   "source": [
    "## data"
   ]
  },
  {
   "cell_type": "code",
   "execution_count": 2,
   "id": "001b0a3c",
   "metadata": {},
   "outputs": [],
   "source": [
    "raw = pd.read_csv('cleaned_listings.csv')\n",
    "df = raw[~raw['price'].isin([999, 9999])]\n",
    "df = df.drop(['host_listings_count', 'host_total_listings_count', 'minimum_nights_avg_ntm','maximum_minimum_nights','minimum_nights','minimum_minimum_nights', 'property_type',\n",
    "              'calculated_host_listings_count_shared_rooms','calculated_host_listings_count_entire_homes','calculated_host_listings_count_private_rooms','maximum_nights_avg_ntm','cnt_amenities'], axis=1)\n",
    "\n",
    "\n"
   ]
  },
  {
   "cell_type": "markdown",
   "id": "77a237f7",
   "metadata": {},
   "source": [
    "## visualize the review_scores_rating"
   ]
  },
  {
   "cell_type": "code",
   "execution_count": 3,
   "id": "25172730",
   "metadata": {},
   "outputs": [
    {
     "data": {
      "image/png": "[encoded data removed]",
      "text/plain": [
       "<Figure size 640x480 with 1 Axes>"
      ]
     },
     "metadata": {},
     "output_type": "display_data"
    }
   ],
   "source": [
    "# Calculate counts of each value\n",
    "value_counts = df['review_scores_rating'].value_counts()\n",
    "\n",
    "# Sort the counts by index for better visualization\n",
    "value_counts = value_counts.sort_index()\n",
    "\n",
    "# Plotting\n",
    "bin_edges = np.arange(0.95, 5.05, 0.1)\n",
    "plt.hist(df['review_scores_rating'], bins=bin_edges, edgecolor='black')\n",
    "\n",
    "plt.xlabel('Score')\n",
    "plt.ylabel('Count')\n",
    "plt.title('Distribution of Scores with 0.1 Precision')\n",
    "plt.show()\n"
   ]
  },
  {
   "cell_type": "code",
   "execution_count": 4,
   "id": "2427ec2f",
   "metadata": {},
   "outputs": [],
   "source": [
    "index_to_drop = df['review_scores_rating'] <= 4.5\n",
    "df = df[~index_to_drop]\n",
    "df = df.drop(columns=['id','source','name','host_id','host_name'])\n"
   ]
  },
  {
   "cell_type": "markdown",
   "id": "17fc2742",
   "metadata": {},
   "source": [
    "## Clustering on scores > 4.5"
   ]
  },
  {
   "cell_type": "markdown",
   "id": "125e9366",
   "metadata": {},
   "source": [
    "### Kmeans"
   ]
  },
  {
   "cell_type": "code",
   "execution_count": 5,
   "id": "c4aa7b85",
   "metadata": {},
   "outputs": [],
   "source": [
    "df = df.drop(columns=['maximum_nights', 'minimum_maximum_nights', 'maximum_maximum_nights',\n",
    "       'has_availability'])"
   ]
  },
  {
   "cell_type": "code",
   "execution_count": 6,
   "id": "31e01028",
   "metadata": {},
   "outputs": [
    {
     "data": {
      "text/html": [
       "<div>\n",
       "<style scoped>\n",
       "    .dataframe tbody tr th:only-of-type {\n",
       "        vertical-align: middle;\n",
       "    }\n",
       "\n",
       "    .dataframe tbody tr th {\n",
       "        vertical-align: top;\n",
       "    }\n",
       "\n",
       "    .dataframe thead th {\n",
       "        text-align: right;\n",
       "    }\n",
       "</style>\n",
       "<table border=\"1\" class=\"dataframe\">\n",
       "  <thead>\n",
       "    <tr style=\"text-align: right;\">\n",
       "      <th></th>\n",
       "      <th>host_response_time</th>\n",
       "      <th>host_response_rate</th>\n",
       "      <th>host_acceptance_rate</th>\n",
       "      <th>host_is_superhost</th>\n",
       "      <th>host_has_profile_pic</th>\n",
       "      <th>host_identity_verified</th>\n",
       "      <th>neighbourhood_cleansed</th>\n",
       "      <th>room_type</th>\n",
       "      <th>accommodates</th>\n",
       "      <th>price</th>\n",
       "      <th>...</th>\n",
       "      <th>review_scores_communication</th>\n",
       "      <th>review_scores_location</th>\n",
       "      <th>review_scores_value</th>\n",
       "      <th>instant_bookable</th>\n",
       "      <th>calculated_host_listings_count</th>\n",
       "      <th>reviews_per_month</th>\n",
       "      <th>has_description</th>\n",
       "      <th>has_host_about</th>\n",
       "      <th>cnt_verifications</th>\n",
       "      <th>months_since</th>\n",
       "    </tr>\n",
       "  </thead>\n",
       "  <tbody>\n",
       "    <tr>\n",
       "      <th>0</th>\n",
       "      <td>within a few hours</td>\n",
       "      <td>1.0</td>\n",
       "      <td>0.75</td>\n",
       "      <td>0</td>\n",
       "      <td>1</td>\n",
       "      <td>1</td>\n",
       "      <td>Playa del Rey</td>\n",
       "      <td>Entire home/apt</td>\n",
       "      <td>2</td>\n",
       "      <td>120.0</td>\n",
       "      <td>...</td>\n",
       "      <td>5.00</td>\n",
       "      <td>5.00</td>\n",
       "      <td>5.00</td>\n",
       "      <td>0</td>\n",
       "      <td>1</td>\n",
       "      <td>0.04</td>\n",
       "      <td>1</td>\n",
       "      <td>0</td>\n",
       "      <td>18</td>\n",
       "      <td>109</td>\n",
       "    </tr>\n",
       "    <tr>\n",
       "      <th>1</th>\n",
       "      <td>within an hour</td>\n",
       "      <td>0.9</td>\n",
       "      <td>0.90</td>\n",
       "      <td>0</td>\n",
       "      <td>1</td>\n",
       "      <td>0</td>\n",
       "      <td>Castaic</td>\n",
       "      <td>Entire home/apt</td>\n",
       "      <td>14</td>\n",
       "      <td>1400.0</td>\n",
       "      <td>...</td>\n",
       "      <td>4.75</td>\n",
       "      <td>4.75</td>\n",
       "      <td>4.50</td>\n",
       "      <td>0</td>\n",
       "      <td>1</td>\n",
       "      <td>1.52</td>\n",
       "      <td>1</td>\n",
       "      <td>0</td>\n",
       "      <td>18</td>\n",
       "      <td>45</td>\n",
       "    </tr>\n",
       "    <tr>\n",
       "      <th>2</th>\n",
       "      <td>within an hour</td>\n",
       "      <td>1.0</td>\n",
       "      <td>1.00</td>\n",
       "      <td>1</td>\n",
       "      <td>1</td>\n",
       "      <td>1</td>\n",
       "      <td>Santa Clarita</td>\n",
       "      <td>Entire home/apt</td>\n",
       "      <td>2</td>\n",
       "      <td>201.0</td>\n",
       "      <td>...</td>\n",
       "      <td>5.00</td>\n",
       "      <td>4.97</td>\n",
       "      <td>4.86</td>\n",
       "      <td>0</td>\n",
       "      <td>2</td>\n",
       "      <td>2.88</td>\n",
       "      <td>1</td>\n",
       "      <td>1</td>\n",
       "      <td>18</td>\n",
       "      <td>107</td>\n",
       "    </tr>\n",
       "    <tr>\n",
       "      <th>3</th>\n",
       "      <td>within an hour</td>\n",
       "      <td>1.0</td>\n",
       "      <td>1.00</td>\n",
       "      <td>1</td>\n",
       "      <td>1</td>\n",
       "      <td>1</td>\n",
       "      <td>Inglewood</td>\n",
       "      <td>Entire home/apt</td>\n",
       "      <td>3</td>\n",
       "      <td>105.0</td>\n",
       "      <td>...</td>\n",
       "      <td>5.00</td>\n",
       "      <td>4.67</td>\n",
       "      <td>4.92</td>\n",
       "      <td>0</td>\n",
       "      <td>2</td>\n",
       "      <td>0.78</td>\n",
       "      <td>1</td>\n",
       "      <td>1</td>\n",
       "      <td>18</td>\n",
       "      <td>19</td>\n",
       "    </tr>\n",
       "    <tr>\n",
       "      <th>4</th>\n",
       "      <td>within an hour</td>\n",
       "      <td>1.0</td>\n",
       "      <td>0.97</td>\n",
       "      <td>0</td>\n",
       "      <td>1</td>\n",
       "      <td>1</td>\n",
       "      <td>Hawthorne</td>\n",
       "      <td>Private room</td>\n",
       "      <td>1</td>\n",
       "      <td>68.0</td>\n",
       "      <td>...</td>\n",
       "      <td>5.00</td>\n",
       "      <td>4.63</td>\n",
       "      <td>4.75</td>\n",
       "      <td>1</td>\n",
       "      <td>3</td>\n",
       "      <td>1.13</td>\n",
       "      <td>1</td>\n",
       "      <td>1</td>\n",
       "      <td>9</td>\n",
       "      <td>9</td>\n",
       "    </tr>\n",
       "  </tbody>\n",
       "</table>\n",
       "<p>5 rows × 31 columns</p>\n",
       "</div>"
      ],
      "text/plain": [
       "   host_response_time  host_response_rate  host_acceptance_rate  \\\n",
       "0  within a few hours                 1.0                  0.75   \n",
       "1      within an hour                 0.9                  0.90   \n",
       "2      within an hour                 1.0                  1.00   \n",
       "3      within an hour                 1.0                  1.00   \n",
       "4      within an hour                 1.0                  0.97   \n",
       "\n",
       "   host_is_superhost  host_has_profile_pic  host_identity_verified  \\\n",
       "0                  0                     1                       1   \n",
       "1                  0                     1                       0   \n",
       "2                  1                     1                       1   \n",
       "3                  1                     1                       1   \n",
       "4                  0                     1                       1   \n",
       "\n",
       "  neighbourhood_cleansed        room_type  accommodates   price  ...  \\\n",
       "0          Playa del Rey  Entire home/apt             2   120.0  ...   \n",
       "1                Castaic  Entire home/apt            14  1400.0  ...   \n",
       "2          Santa Clarita  Entire home/apt             2   201.0  ...   \n",
       "3              Inglewood  Entire home/apt             3   105.0  ...   \n",
       "4              Hawthorne     Private room             1    68.0  ...   \n",
       "\n",
       "   review_scores_communication  review_scores_location  review_scores_value  \\\n",
       "0                         5.00                    5.00                 5.00   \n",
       "1                         4.75                    4.75                 4.50   \n",
       "2                         5.00                    4.97                 4.86   \n",
       "3                         5.00                    4.67                 4.92   \n",
       "4                         5.00                    4.63                 4.75   \n",
       "\n",
       "   instant_bookable  calculated_host_listings_count  reviews_per_month  \\\n",
       "0                 0                               1               0.04   \n",
       "1                 0                               1               1.52   \n",
       "2                 0                               2               2.88   \n",
       "3                 0                               2               0.78   \n",
       "4                 1                               3               1.13   \n",
       "\n",
       "   has_description  has_host_about  cnt_verifications  months_since  \n",
       "0                1               0                 18           109  \n",
       "1                1               0                 18            45  \n",
       "2                1               1                 18           107  \n",
       "3                1               1                 18            19  \n",
       "4                1               1                  9             9  \n",
       "\n",
       "[5 rows x 31 columns]"
      ]
     },
     "execution_count": 6,
     "metadata": {},
     "output_type": "execute_result"
    }
   ],
   "source": [
    "df.head(5)"
   ]
  },
  {
   "cell_type": "code",
   "execution_count": 7,
   "id": "30b1dccb",
   "metadata": {},
   "outputs": [
    {
     "data": {
      "text/plain": [
       "Index(['host_response_time', 'host_response_rate', 'host_acceptance_rate',\n",
       "       'host_is_superhost', 'host_has_profile_pic', 'host_identity_verified',\n",
       "       'neighbourhood_cleansed', 'room_type', 'accommodates', 'price',\n",
       "       'availability_30', 'availability_60', 'availability_90',\n",
       "       'availability_365', 'number_of_reviews', 'number_of_reviews_ltm',\n",
       "       'number_of_reviews_l30d', 'review_scores_rating',\n",
       "       'review_scores_accuracy', 'review_scores_cleanliness',\n",
       "       'review_scores_checkin', 'review_scores_communication',\n",
       "       'review_scores_location', 'review_scores_value', 'instant_bookable',\n",
       "       'calculated_host_listings_count', 'reviews_per_month',\n",
       "       'has_description', 'has_host_about', 'cnt_verifications',\n",
       "       'months_since'],\n",
       "      dtype='object')"
      ]
     },
     "execution_count": 7,
     "metadata": {},
     "output_type": "execute_result"
    }
   ],
   "source": [
    "df.columns"
   ]
  },
  {
   "cell_type": "code",
   "execution_count": 8,
   "id": "378de643",
   "metadata": {},
   "outputs": [],
   "source": [
    "# Define the order manually\n",
    "order_mapping = {\n",
    "    'a few days or more': 0,\n",
    "    'within a day': 1,\n",
    "    'within a few hours': 2,\n",
    "    'within an hour': 3\n",
    "}\n",
    "\n",
    "# Apply the mapping to the column\n",
    "df['host_response_time'] = df['host_response_time'].map(order_mapping)\n"
   ]
  },
  {
   "cell_type": "code",
   "execution_count": 19,
   "id": "deda57e0",
   "metadata": {},
   "outputs": [],
   "source": [
    "df = df.drop(columns=['neighbourhood_cleansed'])"
   ]
  },
  {
   "cell_type": "code",
   "execution_count": 25,
   "id": "0025dd4e",
   "metadata": {},
   "outputs": [],
   "source": [
    "# Define numerical and categorical columns\n",
    "numerical_cols = ['host_response_rate', 'host_acceptance_rate',\n",
    "     'accommodates', 'price',\n",
    "       'availability_30', 'availability_60', 'availability_90',\n",
    "       'availability_365', 'number_of_reviews', 'number_of_reviews_ltm',\n",
    "       'number_of_reviews_l30d', 'review_scores_rating',\n",
    "       'review_scores_accuracy', 'review_scores_cleanliness',\n",
    "       'review_scores_checkin', 'review_scores_communication',\n",
    "       'review_scores_location', 'review_scores_value',\n",
    "       'calculated_host_listings_count', 'reviews_per_month',\n",
    "    'cnt_verifications',\n",
    "       'months_since']\n",
    "categorical_cols = ['room_type']\n",
    "\n",
    "# Create transformers for normalization and one-hot encoding\n",
    "preprocessor = ColumnTransformer(\n",
    "    transformers=[\n",
    "        ('num', StandardScaler(), numerical_cols),\n",
    "        ])\n",
    "\n",
    "# Fit and transform the data\n",
    "X_processed = preprocessor.fit_transform(df)\n"
   ]
  },
  {
   "cell_type": "markdown",
   "id": "b034221c",
   "metadata": {},
   "source": [
    "### n_clusters in range(2,10)"
   ]
  },
  {
   "cell_type": "code",
   "execution_count": 31,
   "id": "6f01e608",
   "metadata": {},
   "outputs": [
    {
     "name": "stderr",
     "output_type": "stream",
     "text": [
      "/Users/mac/opt/miniconda3/lib/python3.9/site-packages/sklearn/cluster/_kmeans.py:870: FutureWarning: The default value of `n_init` will change from 10 to 'auto' in 1.4. Set the value of `n_init` explicitly to suppress the warning\n",
      "  warnings.warn(\n",
      "/Users/mac/opt/miniconda3/lib/python3.9/site-packages/sklearn/cluster/_kmeans.py:870: FutureWarning: The default value of `n_init` will change from 10 to 'auto' in 1.4. Set the value of `n_init` explicitly to suppress the warning\n",
      "  warnings.warn(\n",
      "/Users/mac/opt/miniconda3/lib/python3.9/site-packages/sklearn/cluster/_kmeans.py:870: FutureWarning: The default value of `n_init` will change from 10 to 'auto' in 1.4. Set the value of `n_init` explicitly to suppress the warning\n",
      "  warnings.warn(\n",
      "/Users/mac/opt/miniconda3/lib/python3.9/site-packages/sklearn/cluster/_kmeans.py:870: FutureWarning: The default value of `n_init` will change from 10 to 'auto' in 1.4. Set the value of `n_init` explicitly to suppress the warning\n",
      "  warnings.warn(\n",
      "/Users/mac/opt/miniconda3/lib/python3.9/site-packages/sklearn/cluster/_kmeans.py:870: FutureWarning: The default value of `n_init` will change from 10 to 'auto' in 1.4. Set the value of `n_init` explicitly to suppress the warning\n",
      "  warnings.warn(\n",
      "/Users/mac/opt/miniconda3/lib/python3.9/site-packages/sklearn/cluster/_kmeans.py:870: FutureWarning: The default value of `n_init` will change from 10 to 'auto' in 1.4. Set the value of `n_init` explicitly to suppress the warning\n",
      "  warnings.warn(\n",
      "/Users/mac/opt/miniconda3/lib/python3.9/site-packages/sklearn/cluster/_kmeans.py:870: FutureWarning: The default value of `n_init` will change from 10 to 'auto' in 1.4. Set the value of `n_init` explicitly to suppress the warning\n",
      "  warnings.warn(\n",
      "/Users/mac/opt/miniconda3/lib/python3.9/site-packages/sklearn/cluster/_kmeans.py:870: FutureWarning: The default value of `n_init` will change from 10 to 'auto' in 1.4. Set the value of `n_init` explicitly to suppress the warning\n",
      "  warnings.warn(\n"
     ]
    },
    {
     "name": "stdout",
     "output_type": "stream",
     "text": [
      "{2: 0.2731824382812653, 3: 0.2732799476051785, 4: 0.27347962488957983, 5: 0.27320483644664567, 6: 0.27330184450465855, 7: 0.2738479415373326, 8: 0.2732049692558348, 9: 0.2732817935270247}\n"
     ]
    }
   ],
   "source": [
    "n_score = {}\n",
    "for n_clusters in range(2,10):\n",
    "# Assuming X_processed is your pre-processed data\n",
    "    kmeans = KMeans(n_clusters=3)\n",
    "    clusters = kmeans.fit_predict(X_processed)\n",
    "\n",
    "# Reduce the data dimensions with TruncatedSVD\n",
    "    svd = TruncatedSVD(n_components=2)\n",
    "    reduced_data = svd.fit_transform(X_processed)\n",
    "\n",
    "    score = silhouette_score(reduced_data, clusters)\n",
    "    n_score[n_clusters] = score\n",
    "    # Use the reduced data for silhouette score\n",
    "print(n_score)"
   ]
  },
  {
   "cell_type": "markdown",
   "id": "ddad7759",
   "metadata": {},
   "source": [
    "### visualize"
   ]
  },
  {
   "cell_type": "code",
   "execution_count": null,
   "id": "8f2b2c41",
   "metadata": {},
   "outputs": [],
   "source": [
    "# Plotting the results\n",
    "'''plt.figure(figsize=(10, 6))\n",
    "plt.scatter(reduced_data[:, 0], reduced_data[:, 1], c=clusters, cmap='viridis', marker='o', alpha=0.5)\n",
    "\n",
    "plt.xlabel('SVD Feature 1')\n",
    "plt.ylabel('SVD Feature 2')\n",
    "plt.title('K-Means Clustering (SVD-reduced Data)')\n",
    "plt.colorbar(label='Cluster Label')\n",
    "plt.show()'''"
   ]
  },
  {
   "cell_type": "markdown",
   "id": "c4e0df3e",
   "metadata": {},
   "source": [
    "## Hierarchical Clustering:"
   ]
  },
  {
   "cell_type": "code",
   "execution_count": 34,
   "id": "5efffc01",
   "metadata": {},
   "outputs": [
    {
     "data": {
      "image/png": "[encoded data removed]",
      "text/plain": [
       "<Figure size 1200x800 with 1 Axes>"
      ]
     },
     "metadata": {},
     "output_type": "display_data"
    }
   ],
   "source": [
    "# Compute the linkage matrix\n",
    "Z = linkage(X_processed, method='ward')\n",
    "\n",
    "# Plot the dendrogram\n",
    "plt.figure(figsize=(12, 8))\n",
    "dendrogram(Z)\n",
    "plt.title('Hierarchical Clustering Dendrogram')\n",
    "plt.xlabel('Sample index')\n",
    "plt.ylabel('Distance')\n",
    "plt.show()\n",
    "\n",
    "# Form clusters\n",
    "max_d = 25  # Maximum distance for separating clusters, adjust this value based on the dendrogram\n",
    "clusters = fcluster(Z, max_d, criterion='distance')\n",
    "\n",
    "# Adding cluster labels to the original data\n",
    "df['Cluster'] = clusters"
   ]
  },
  {
   "cell_type": "code",
   "execution_count": 37,
   "id": "0dcaa875",
   "metadata": {},
   "outputs": [
    {
     "name": "stdout",
     "output_type": "stream",
     "text": [
      "Number of clusters formed: 4\n",
      "The average silhouette_score is : 0.10619374020539098\n"
     ]
    }
   ],
   "source": [
    "distance_threshold = 200\n",
    "clusters = fcluster(Z, distance_threshold, criterion='distance')\n",
    "\n",
    "# Now you can check how many unique clusters you have\n",
    "num_clusters = len(set(clusters))\n",
    "print('Number of clusters formed:', num_clusters)\n",
    "silhouette_avg = silhouette_score(X_processed, clusters)\n",
    "print('The average silhouette_score is :', silhouette_avg)"
   ]
  },
  {
   "cell_type": "code",
   "execution_count": null,
   "id": "a55e763b",
   "metadata": {},
   "outputs": [],
   "source": []
  }
 ],
 "metadata": {
  "kernelspec": {
   "display_name": "Python 3 (ipykernel)",
   "language": "python",
   "name": "python3"
  },
  "language_info": {
   "codemirror_mode": {
    "name": "ipython",
    "version": 3
   },
   "file_extension": ".py",
   "mimetype": "text/x-python",
   "name": "python",
   "nbconvert_exporter": "python",
   "pygments_lexer": "ipython3",
   "version": "3.9.12"
  }
 },
 "nbformat": 4,
 "nbformat_minor": 5
}
